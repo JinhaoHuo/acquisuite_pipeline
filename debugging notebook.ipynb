{
 "cells": [
  {
   "cell_type": "code",
   "execution_count": 9,
   "metadata": {},
   "outputs": [],
   "source": [
    "import os\n",
    "import xml.etree.ElementTree as ET\n",
    "from xml.etree.ElementTree import ElementTree\n",
    "import pandas as pd\n",
    "import numpy as np\n",
    "import yaml\n",
    "from pathlib import Path\n",
    "from datetime import datetime\n",
    "from flask import Flask, flash, request, redirect, url_for, make_response\n",
    "import re"
   ]
  },
  {
   "cell_type": "code",
   "execution_count": 21,
   "metadata": {},
   "outputs": [
    {
     "name": "stdout",
     "output_type": "stream",
     "text": [
      "250\n",
      "22\n",
      "28\n",
      "33\n",
      "37\n",
      "41\n",
      "45\n",
      "49\n"
     ]
    },
    {
     "name": "stderr",
     "output_type": "stream",
     "text": [
      "C:\\Users\\thoma\\Anaconda3\\lib\\site-packages\\ipykernel_launcher.py:8: YAMLLoadWarning: calling yaml.load_all() without Loader=... is deprecated, as the default Loader is unsafe. Please read https://msg.pyyaml.org/load for full details.\n",
      "  \n"
     ]
    },
    {
     "data": {
      "text/plain": [
       "'null'"
      ]
     },
     "execution_count": 21,
     "metadata": {},
     "output_type": "execute_result"
    }
   ],
   "source": [
    "#Opens our config file, currently in yaml format\n",
    "stream = open('config.yaml', 'r')\n",
    "\n",
    "#Mapping points to custom for table output\n",
    "custom_map = {}\n",
    "\n",
    "#Running through all sub-documents in yaml and getting what we need\n",
    "for data in yaml.load_all(stream):\n",
    "    #Mapping through a dictionary with lists as keys\n",
    "    address = data['address']\n",
    "    points = data['points']\n",
    "    \n",
    "    print(address)\n",
    "    \n",
    "    for point in points:\n",
    "        regexed = re.findall('[0-9]+,', point)[0]\n",
    "        custom = point.replace(regexed + ' ', \"\")\n",
    "        point = int(regexed.replace(',', \"\"))\n",
    "        custom_map[(address, point)] = custom\n",
    "        \n",
    "custom_map\n",
    "custom_map.get((250, 1), 'null')"
   ]
  },
  {
   "cell_type": "code",
   "execution_count": null,
   "metadata": {},
   "outputs": [],
   "source": []
  }
 ],
 "metadata": {
  "kernelspec": {
   "display_name": "Python 3",
   "language": "python",
   "name": "python3"
  },
  "language_info": {
   "codemirror_mode": {
    "name": "ipython",
    "version": 3
   },
   "file_extension": ".py",
   "mimetype": "text/x-python",
   "name": "python",
   "nbconvert_exporter": "python",
   "pygments_lexer": "ipython3",
   "version": "3.7.3"
  }
 },
 "nbformat": 4,
 "nbformat_minor": 2
}
