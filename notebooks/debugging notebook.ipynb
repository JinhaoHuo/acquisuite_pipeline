{
 "cells": [
  {
   "cell_type": "code",
   "execution_count": 1,
   "metadata": {},
   "outputs": [],
   "source": [
    "import os\n",
    "import xml.etree.ElementTree as ET\n",
    "from xml.etree.ElementTree import ElementTree\n",
    "import pandas as pd\n",
    "import numpy as np\n",
    "import yaml\n",
    "from pathlib import Path\n",
    "from datetime import datetime\n",
    "from flask import Flask, flash, request, redirect, url_for, make_response\n",
    "import re"
   ]
  },
  {
   "cell_type": "code",
   "execution_count": 8,
   "metadata": {},
   "outputs": [
    {
     "name": "stdout",
     "output_type": "stream",
     "text": [
      "250\n",
      "22\n",
      "28\n",
      "33\n",
      "37\n",
      "41\n",
      "45\n",
      "49\n"
     ]
    }
   ],
   "source": [
    "#Opens our config file, currently in yaml format\n",
    "stream = open('config.yaml', 'r')\n",
    "\n",
    "#Mapping points to custom for table output\n",
    "custom_map = {}\n",
    "\n",
    "#Running through all sub-documents in yaml and getting what we need\n",
    "for data in yaml.load_all(stream, Loader=yaml.FullLoader):\n",
    "    #Mapping through a dictionary with lists as keys\n",
    "    address = data['address']\n",
    "    points = data['points']\n",
    "    \n",
    "    print(address)\n",
    "    \n",
    "    for point in points:\n",
    "        regexed = re.findall('[0-9]+,', point)[0]\n",
    "        custom = point.replace(regexed + ' ', \"\")\n",
    "        point = int(regexed.replace(',', \"\"))\n",
    "        custom_map[(address, point)] = custom\n",
    "        \n",
    "tbl = pd.DataFrame(data=[[5, 5, \n",
    "                          5, 5, 5]], \n",
    "                   columns=[\"Address\", \"Point\", \"Name\", \"Value\", \"Time\"])\n",
    "tbl.to_csv('data/test', index=False)"
   ]
  },
  {
   "cell_type": "code",
   "execution_count": null,
   "metadata": {},
   "outputs": [],
   "source": []
  }
 ],
 "metadata": {
  "kernelspec": {
   "display_name": "Python 3",
   "language": "python",
   "name": "python3"
  },
  "language_info": {
   "codemirror_mode": {
    "name": "ipython",
    "version": 3
   },
   "file_extension": ".py",
   "mimetype": "text/x-python",
   "name": "python",
   "nbconvert_exporter": "python",
   "pygments_lexer": "ipython3",
   "version": "3.7.3"
  }
 },
 "nbformat": 4,
 "nbformat_minor": 2
}
