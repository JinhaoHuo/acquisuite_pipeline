{
 "cells": [
  {
   "cell_type": "code",
   "execution_count": 1,
   "metadata": {},
   "outputs": [],
   "source": [
    "import pandas as pd\n",
    "import numpy as np\n",
    "import matplotlib.pyplot as plt\n",
    "import seaborn as sns\n",
    "from datetime import datetime, timedelta"
   ]
  },
  {
   "cell_type": "code",
   "execution_count": 2,
   "metadata": {},
   "outputs": [],
   "source": [
    "#intervals are in minutes\n",
    "#NOTE: file, start, end are all strings! Don't insert object values. \n",
    "#TODO: FIX FOR NEW FILE FORMAT!!! Currently does not work with acquisuite_AAA_PP_YYYY-MM.csv file template\n",
    "def data_confirms(file, start, end='N/A', intervals=5, margin_error=0):\n",
    "    \n",
    "    #Initial table filtering here, also converting to datetime\n",
    "    start = datetime.strptime(start, '%Y-%m-%d %H:%M:%S')\n",
    "    tbl = pd.read_csv(\"data/\" + file)\n",
    "    tbl[\"Time\"] = tbl[\"Time\"].apply(lambda x: datetime.strptime(x, '%Y-%m-%d %H:%M:%S'))\n",
    "    tbl = tbl.sort_values(by=['Time'])\n",
    "    frame = pd.DataFrame(columns=['Value','Point', 'Binary'])\n",
    "    \n",
    "    #Defaulted to N/A, but this top block loops until the specified end datetime\n",
    "    if end != \"N/A\":\n",
    "        while(start < dt.strptime(end, '%Y-%m-%d %H:%M:%S')):\n",
    "            for point in np.arange(0, 10):\n",
    "                temp = tbl[tbl['Point'] == point]\n",
    "                next_largest = temp[temp['Time'] > start]['Time'].iloc[0]\n",
    "                #Rounding to minutes for interval comparisons\n",
    "                if round((next_largest - start).seconds / 60.0) > (intervals + margin_error) or \\\n",
    "                   round((next_largest - start).seconds / 60.0) <= (intervals - margin_error):\n",
    "                    frame = frame.append(pd.Series(['no', point, 1], index=['Value','Point', 'Binary']), ignore_index=True)\n",
    "                else:\n",
    "                    frame = frame.append(pd.Series(['yes', point, 1], index=['Value','Point', 'Binary']), ignore_index=True)\n",
    "            start = next_largest\n",
    "    #The else statement logically the same as above, but with the while loop ending at largest datetime value\n",
    "    else:\n",
    "        while(start < max(tbl['Time'].tolist())):\n",
    "            for point in np.arange(0, 10):\n",
    "                temp = tbl[tbl['Point'] == point]\n",
    "                next_largest = temp[temp['Time'] > start]['Time'].iloc[0]\n",
    "                #print(temp['Point'].empty)\n",
    "                if round((next_largest - start).seconds / 60.0) > (intervals + margin_error) or \\\n",
    "                   round((next_largest - start).seconds / 60.0) < (intervals - margin_error):\n",
    "                    frame = frame.append(pd.Series(['no', point, 1], index=['Value','Point', 'Binary']), ignore_index=True)\n",
    "                else:\n",
    "                    frame = frame.append(pd.Series(['yes', point, 1], index=['Value','Point', 'Binary']), ignore_index=True)\n",
    "            start = next_largest\n",
    "    sns.factorplot(x='Point', y='Binary', hue='Value', data=frame, kind='bar', height=8.27, aspect=11.7/8.27)\n",
    "    plt.ylabel('Count');"
   ]
  },
  {
   "cell_type": "code",
   "execution_count": 3,
   "metadata": {},
   "outputs": [],
   "source": [
    "#Similar to above, but now we want a histogram\n",
    "def data_hist(file, start, end='N/A'):\n",
    "    #Initial table filtering here, also converting to datetime\n",
    "    start = datetime.strptime(start, '%Y-%m-%d %H:%M:%S')\n",
    "    tbl = pd.read_csv(\"data/\" + file)\n",
    "    tbl[\"Time\"] = tbl[\"Time\"].apply(lambda x: datetime.strptime(x, '%Y-%m-%d %H:%M:%S'))\n",
    "    tbl = tbl.sort_values(by=['Time'])\n",
    "    frame = pd.DataFrame(columns=['Point', 'timedelta'])\n",
    "    \n",
    "    #Defaulted to N/A, but this top block loops until the specified end datetime\n",
    "    if end != \"N/A\":\n",
    "        while(start < dt.strptime(end, '%Y-%m-%d %H:%M:%S')):\n",
    "            for point in np.arange(0, 10):\n",
    "                temp = tbl[tbl['Point'] == point]\n",
    "                next_largest = temp[temp['Time'] > start]['Time'].iloc[0]\n",
    "                frame = frame.append(pd.Series([point, (next_largest - start).seconds / 60.0], \n",
    "                                               index=['Point', 'timedelta']), ignore_index=True)\n",
    "            start = next_largest\n",
    "    #The else statement logically the same as above, but with the while loop ending at largest datetime value\n",
    "    else:\n",
    "        while(start < max(tbl['Time'].tolist())):\n",
    "            for point in np.arange(0, 10):\n",
    "                temp = tbl[tbl['Point'] == point]\n",
    "                next_largest = temp[temp['Time'] > start]['Time'].iloc[0]\n",
    "                frame = frame.append(pd.Series([point, (next_largest - start).seconds / 60.0], \n",
    "                                               index=['Point', 'timedelta']), ignore_index=True)\n",
    "            start = next_largest\n",
    "    g = sns.FacetGrid(frame, col=\"Point\", col_wrap=5, ylim=(0, 10), height=4, aspect=2.0/3)\n",
    "    g.map(plt.hist, 'timedelta');"
   ]
  },
  {
   "cell_type": "code",
   "execution_count": 4,
   "metadata": {},
   "outputs": [
    {
     "data": {
      "image/png": "[encoded data removed]",
      "text/plain": [
       "<Figure size 960x576 with 10 Axes>"
      ]
     },
     "metadata": {
      "needs_background": "light"
     },
     "output_type": "display_data"
    }
   ],
   "source": [
    "data_hist(\"48_data.csv\", \"2019-07-25 18:13:54\")"
   ]
  },
  {
   "cell_type": "code",
   "execution_count": null,
   "metadata": {},
   "outputs": [],
   "source": []
  }
 ],
 "metadata": {
  "kernelspec": {
   "display_name": "Python 3",
   "language": "python",
   "name": "python3"
  },
  "language_info": {
   "codemirror_mode": {
    "name": "ipython",
    "version": 3
   },
   "file_extension": ".py",
   "mimetype": "text/x-python",
   "name": "python",
   "nbconvert_exporter": "python",
   "pygments_lexer": "ipython3",
   "version": "3.7.3"
  }
 },
 "nbformat": 4,
 "nbformat_minor": 2
}
